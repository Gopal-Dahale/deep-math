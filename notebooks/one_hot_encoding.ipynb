{
 "cells": [
  {
   "cell_type": "code",
   "execution_count": 1,
   "id": "6c6d49c5",
   "metadata": {
    "ExecuteTime": {
     "end_time": "2021-10-23T05:27:11.114819Z",
     "start_time": "2021-10-23T05:26:53.478682Z"
    }
   },
   "outputs": [],
   "source": [
    "import torch"
   ]
  },
  {
   "cell_type": "code",
   "execution_count": 4,
   "id": "7083b0aa",
   "metadata": {
    "ExecuteTime": {
     "end_time": "2021-10-23T05:28:13.524740Z",
     "start_time": "2021-10-23T05:28:13.497773Z"
    }
   },
   "outputs": [],
   "source": [
    "x = [ 2, 36, 80, 77, 77, 70, 68, 85,  1, 85, 73, 70,  1, 85, 70, 83, 78, 84,\n",
    "         1, 74, 79,  1, 14, 23, 11, 85, 11, 11, 20,  1, 12,  1, 85, 11, 11, 19,\n",
    "         1, 12,  1, 85, 11, 11, 19,  1, 14,  1, 23, 23, 11, 85,  1, 12,  1, 23,\n",
    "        23, 11, 85,  1, 12,  1, 17, 11, 85, 11, 11, 19, 15,  3,  0,  0,  0,  0,\n",
    "         0,  0,  0,  0,  0,  0,  0,  0,  0,  0,  0,  0,  0,  0,  0,  0,  0,  0,\n",
    "         0,  0,  0,  0,  0,  0,  0,  0,  0,  0,  0,  0,  0,  0,  0,  0,  0,  0,\n",
    "         0,  0,  0,  0,  0,  0,  0,  0,  0,  0,  0,  0,  0,  0,  0,  0,  0,  0,\n",
    "         0,  0,  0,  0,  0,  0,  0,  0,  0,  0,  0,  0,  0,  0,  0,  0,  0,  0,\n",
    "         0,  0,  0,  0,  0,  0,  0,  0,  0,  0,  0,  0,  0,  0,  0,  0,  0,  0]"
   ]
  },
  {
   "cell_type": "code",
   "execution_count": 18,
   "id": "988fed2b",
   "metadata": {
    "ExecuteTime": {
     "end_time": "2021-10-23T05:32:40.706499Z",
     "start_time": "2021-10-23T05:32:40.685556Z"
    }
   },
   "outputs": [
    {
     "data": {
      "text/plain": [
       "torch.Size([162, 1])"
      ]
     },
     "execution_count": 18,
     "metadata": {},
     "output_type": "execute_result"
    }
   ],
   "source": [
    "x = torch.Tensor(x).reshape(1,-1)\n",
    "x = x.to(torch.int64)\n",
    "x = torch.transpose(x, 0, 1)\n",
    "x.shape"
   ]
  },
  {
   "cell_type": "code",
   "execution_count": 19,
   "id": "4ab9f265",
   "metadata": {
    "ExecuteTime": {
     "end_time": "2021-10-23T05:32:41.146590Z",
     "start_time": "2021-10-23T05:32:41.132629Z"
    }
   },
   "outputs": [
    {
     "data": {
      "text/plain": [
       "tensor([[ 2],\n",
       "        [36],\n",
       "        [80],\n",
       "        [77],\n",
       "        [77],\n",
       "        [70],\n",
       "        [68],\n",
       "        [85],\n",
       "        [ 1],\n",
       "        [85],\n",
       "        [73],\n",
       "        [70],\n",
       "        [ 1],\n",
       "        [85],\n",
       "        [70],\n",
       "        [83],\n",
       "        [78],\n",
       "        [84],\n",
       "        [ 1],\n",
       "        [74],\n",
       "        [79],\n",
       "        [ 1],\n",
       "        [14],\n",
       "        [23],\n",
       "        [11],\n",
       "        [85],\n",
       "        [11],\n",
       "        [11],\n",
       "        [20],\n",
       "        [ 1],\n",
       "        [12],\n",
       "        [ 1],\n",
       "        [85],\n",
       "        [11],\n",
       "        [11],\n",
       "        [19],\n",
       "        [ 1],\n",
       "        [12],\n",
       "        [ 1],\n",
       "        [85],\n",
       "        [11],\n",
       "        [11],\n",
       "        [19],\n",
       "        [ 1],\n",
       "        [14],\n",
       "        [ 1],\n",
       "        [23],\n",
       "        [23],\n",
       "        [11],\n",
       "        [85],\n",
       "        [ 1],\n",
       "        [12],\n",
       "        [ 1],\n",
       "        [23],\n",
       "        [23],\n",
       "        [11],\n",
       "        [85],\n",
       "        [ 1],\n",
       "        [12],\n",
       "        [ 1],\n",
       "        [17],\n",
       "        [11],\n",
       "        [85],\n",
       "        [11],\n",
       "        [11],\n",
       "        [19],\n",
       "        [15],\n",
       "        [ 3],\n",
       "        [ 0],\n",
       "        [ 0],\n",
       "        [ 0],\n",
       "        [ 0],\n",
       "        [ 0],\n",
       "        [ 0],\n",
       "        [ 0],\n",
       "        [ 0],\n",
       "        [ 0],\n",
       "        [ 0],\n",
       "        [ 0],\n",
       "        [ 0],\n",
       "        [ 0],\n",
       "        [ 0],\n",
       "        [ 0],\n",
       "        [ 0],\n",
       "        [ 0],\n",
       "        [ 0],\n",
       "        [ 0],\n",
       "        [ 0],\n",
       "        [ 0],\n",
       "        [ 0],\n",
       "        [ 0],\n",
       "        [ 0],\n",
       "        [ 0],\n",
       "        [ 0],\n",
       "        [ 0],\n",
       "        [ 0],\n",
       "        [ 0],\n",
       "        [ 0],\n",
       "        [ 0],\n",
       "        [ 0],\n",
       "        [ 0],\n",
       "        [ 0],\n",
       "        [ 0],\n",
       "        [ 0],\n",
       "        [ 0],\n",
       "        [ 0],\n",
       "        [ 0],\n",
       "        [ 0],\n",
       "        [ 0],\n",
       "        [ 0],\n",
       "        [ 0],\n",
       "        [ 0],\n",
       "        [ 0],\n",
       "        [ 0],\n",
       "        [ 0],\n",
       "        [ 0],\n",
       "        [ 0],\n",
       "        [ 0],\n",
       "        [ 0],\n",
       "        [ 0],\n",
       "        [ 0],\n",
       "        [ 0],\n",
       "        [ 0],\n",
       "        [ 0],\n",
       "        [ 0],\n",
       "        [ 0],\n",
       "        [ 0],\n",
       "        [ 0],\n",
       "        [ 0],\n",
       "        [ 0],\n",
       "        [ 0],\n",
       "        [ 0],\n",
       "        [ 0],\n",
       "        [ 0],\n",
       "        [ 0],\n",
       "        [ 0],\n",
       "        [ 0],\n",
       "        [ 0],\n",
       "        [ 0],\n",
       "        [ 0],\n",
       "        [ 0],\n",
       "        [ 0],\n",
       "        [ 0],\n",
       "        [ 0],\n",
       "        [ 0],\n",
       "        [ 0],\n",
       "        [ 0],\n",
       "        [ 0],\n",
       "        [ 0],\n",
       "        [ 0],\n",
       "        [ 0],\n",
       "        [ 0],\n",
       "        [ 0],\n",
       "        [ 0],\n",
       "        [ 0],\n",
       "        [ 0],\n",
       "        [ 0],\n",
       "        [ 0],\n",
       "        [ 0],\n",
       "        [ 0],\n",
       "        [ 0],\n",
       "        [ 0]])"
      ]
     },
     "execution_count": 19,
     "metadata": {},
     "output_type": "execute_result"
    }
   ],
   "source": [
    "x"
   ]
  },
  {
   "cell_type": "code",
   "execution_count": 21,
   "id": "9ffc1c82",
   "metadata": {
    "ExecuteTime": {
     "end_time": "2021-10-23T05:33:13.237627Z",
     "start_time": "2021-10-23T05:33:13.219676Z"
    }
   },
   "outputs": [],
   "source": [
    "y = torch.nn.functional.one_hot(x, 95)"
   ]
  },
  {
   "cell_type": "code",
   "execution_count": 22,
   "id": "1841c50d",
   "metadata": {
    "ExecuteTime": {
     "end_time": "2021-10-23T05:33:16.763939Z",
     "start_time": "2021-10-23T05:33:16.743904Z"
    }
   },
   "outputs": [
    {
     "data": {
      "text/plain": [
       "tensor([[[0, 0, 1,  ..., 0, 0, 0]],\n",
       "\n",
       "        [[0, 0, 0,  ..., 0, 0, 0]],\n",
       "\n",
       "        [[0, 0, 0,  ..., 0, 0, 0]],\n",
       "\n",
       "        ...,\n",
       "\n",
       "        [[1, 0, 0,  ..., 0, 0, 0]],\n",
       "\n",
       "        [[1, 0, 0,  ..., 0, 0, 0]],\n",
       "\n",
       "        [[1, 0, 0,  ..., 0, 0, 0]]])"
      ]
     },
     "execution_count": 22,
     "metadata": {},
     "output_type": "execute_result"
    }
   ],
   "source": [
    "y"
   ]
  },
  {
   "cell_type": "code",
   "execution_count": 23,
   "id": "438a8899",
   "metadata": {
    "ExecuteTime": {
     "end_time": "2021-10-23T05:33:21.712440Z",
     "start_time": "2021-10-23T05:33:21.697481Z"
    }
   },
   "outputs": [
    {
     "data": {
      "text/plain": [
       "torch.Size([162, 1, 95])"
      ]
     },
     "execution_count": 23,
     "metadata": {},
     "output_type": "execute_result"
    }
   ],
   "source": [
    "y.shape"
   ]
  },
  {
   "cell_type": "code",
   "execution_count": 25,
   "id": "a7d4022f",
   "metadata": {
    "ExecuteTime": {
     "end_time": "2021-10-23T05:52:19.103888Z",
     "start_time": "2021-10-23T05:52:19.087936Z"
    }
   },
   "outputs": [],
   "source": [
    "z = y.unsqueeze(0)"
   ]
  },
  {
   "cell_type": "code",
   "execution_count": 26,
   "id": "e46225f5",
   "metadata": {
    "ExecuteTime": {
     "end_time": "2021-10-23T05:52:22.533393Z",
     "start_time": "2021-10-23T05:52:22.518436Z"
    }
   },
   "outputs": [
    {
     "data": {
      "text/plain": [
       "tensor([[[[0, 0, 1,  ..., 0, 0, 0]],\n",
       "\n",
       "         [[0, 0, 0,  ..., 0, 0, 0]],\n",
       "\n",
       "         [[0, 0, 0,  ..., 0, 0, 0]],\n",
       "\n",
       "         ...,\n",
       "\n",
       "         [[1, 0, 0,  ..., 0, 0, 0]],\n",
       "\n",
       "         [[1, 0, 0,  ..., 0, 0, 0]],\n",
       "\n",
       "         [[1, 0, 0,  ..., 0, 0, 0]]]])"
      ]
     },
     "execution_count": 26,
     "metadata": {},
     "output_type": "execute_result"
    }
   ],
   "source": [
    "z"
   ]
  },
  {
   "cell_type": "code",
   "execution_count": 27,
   "id": "c0979cd2",
   "metadata": {
    "ExecuteTime": {
     "end_time": "2021-10-23T05:52:26.054415Z",
     "start_time": "2021-10-23T05:52:26.036425Z"
    }
   },
   "outputs": [
    {
     "data": {
      "text/plain": [
       "torch.Size([1, 162, 1, 95])"
      ]
     },
     "execution_count": 27,
     "metadata": {},
     "output_type": "execute_result"
    }
   ],
   "source": [
    "z.shape"
   ]
  },
  {
   "cell_type": "code",
   "execution_count": null,
   "id": "3a40be5c",
   "metadata": {},
   "outputs": [],
   "source": []
  }
 ],
 "metadata": {
  "kernelspec": {
   "display_name": "Python 3",
   "language": "python",
   "name": "python3"
  },
  "language_info": {
   "codemirror_mode": {
    "name": "ipython",
    "version": 3
   },
   "file_extension": ".py",
   "mimetype": "text/x-python",
   "name": "python",
   "nbconvert_exporter": "python",
   "pygments_lexer": "ipython3",
   "version": "3.7.7"
  },
  "toc": {
   "base_numbering": 1,
   "nav_menu": {},
   "number_sections": true,
   "sideBar": true,
   "skip_h1_title": false,
   "title_cell": "Table of Contents",
   "title_sidebar": "Contents",
   "toc_cell": false,
   "toc_position": {},
   "toc_section_display": true,
   "toc_window_display": false
  }
 },
 "nbformat": 4,
 "nbformat_minor": 5
}
